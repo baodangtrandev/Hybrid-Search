{
 "cells": [
  {
   "cell_type": "code",
   "execution_count": 1,
   "id": "acb715ff-3618-4d0a-b2d9-0289accec53d",
   "metadata": {},
   "outputs": [
    {
     "name": "stdout",
     "output_type": "stream",
     "text": [
      "Requirement already satisfied: datasets in c:\\users\\dell\\appdata\\local\\programs\\python\\python312\\lib\\site-packages (2.20.0)\n",
      "Requirement already satisfied: filelock in c:\\users\\dell\\appdata\\local\\programs\\python\\python312\\lib\\site-packages (from datasets) (3.15.4)\n",
      "Requirement already satisfied: numpy>=1.17 in c:\\users\\dell\\appdata\\local\\programs\\python\\python312\\lib\\site-packages (from datasets) (1.26.4)\n",
      "Requirement already satisfied: pyarrow>=15.0.0 in c:\\users\\dell\\appdata\\local\\programs\\python\\python312\\lib\\site-packages (from datasets) (17.0.0)\n",
      "Requirement already satisfied: pyarrow-hotfix in c:\\users\\dell\\appdata\\local\\programs\\python\\python312\\lib\\site-packages (from datasets) (0.6)\n",
      "Requirement already satisfied: dill<0.3.9,>=0.3.0 in c:\\users\\dell\\appdata\\local\\programs\\python\\python312\\lib\\site-packages (from datasets) (0.3.8)\n",
      "Requirement already satisfied: pandas in c:\\users\\dell\\appdata\\local\\programs\\python\\python312\\lib\\site-packages (from datasets) (2.2.2)\n",
      "Requirement already satisfied: requests>=2.32.2 in c:\\users\\dell\\appdata\\local\\programs\\python\\python312\\lib\\site-packages (from datasets) (2.32.3)\n",
      "Requirement already satisfied: tqdm>=4.66.3 in c:\\users\\dell\\appdata\\local\\programs\\python\\python312\\lib\\site-packages (from datasets) (4.66.4)\n",
      "Requirement already satisfied: xxhash in c:\\users\\dell\\appdata\\local\\programs\\python\\python312\\lib\\site-packages (from datasets) (3.4.1)\n",
      "Requirement already satisfied: multiprocess in c:\\users\\dell\\appdata\\local\\programs\\python\\python312\\lib\\site-packages (from datasets) (0.70.16)\n",
      "Requirement already satisfied: fsspec<=2024.5.0,>=2023.1.0 in c:\\users\\dell\\appdata\\local\\programs\\python\\python312\\lib\\site-packages (from fsspec[http]<=2024.5.0,>=2023.1.0->datasets) (2024.5.0)\n",
      "Requirement already satisfied: aiohttp in c:\\users\\dell\\appdata\\local\\programs\\python\\python312\\lib\\site-packages (from datasets) (3.9.5)\n",
      "Requirement already satisfied: huggingface-hub>=0.21.2 in c:\\users\\dell\\appdata\\local\\programs\\python\\python312\\lib\\site-packages (from datasets) (0.24.3)\n",
      "Requirement already satisfied: packaging in c:\\users\\dell\\appdata\\local\\programs\\python\\python312\\lib\\site-packages (from datasets) (24.1)\n",
      "Requirement already satisfied: pyyaml>=5.1 in c:\\users\\dell\\appdata\\local\\programs\\python\\python312\\lib\\site-packages (from datasets) (6.0.1)\n",
      "Requirement already satisfied: aiosignal>=1.1.2 in c:\\users\\dell\\appdata\\local\\programs\\python\\python312\\lib\\site-packages (from aiohttp->datasets) (1.3.1)\n",
      "Requirement already satisfied: attrs>=17.3.0 in c:\\users\\dell\\appdata\\local\\programs\\python\\python312\\lib\\site-packages (from aiohttp->datasets) (23.2.0)\n",
      "Requirement already satisfied: frozenlist>=1.1.1 in c:\\users\\dell\\appdata\\local\\programs\\python\\python312\\lib\\site-packages (from aiohttp->datasets) (1.4.1)\n",
      "Requirement already satisfied: multidict<7.0,>=4.5 in c:\\users\\dell\\appdata\\local\\programs\\python\\python312\\lib\\site-packages (from aiohttp->datasets) (6.0.5)\n",
      "Requirement already satisfied: yarl<2.0,>=1.0 in c:\\users\\dell\\appdata\\local\\programs\\python\\python312\\lib\\site-packages (from aiohttp->datasets) (1.9.4)\n",
      "Requirement already satisfied: typing-extensions>=3.7.4.3 in c:\\users\\dell\\appdata\\local\\programs\\python\\python312\\lib\\site-packages (from huggingface-hub>=0.21.2->datasets) (4.12.2)\n",
      "Requirement already satisfied: charset-normalizer<4,>=2 in c:\\users\\dell\\appdata\\local\\programs\\python\\python312\\lib\\site-packages (from requests>=2.32.2->datasets) (3.3.2)\n",
      "Requirement already satisfied: idna<4,>=2.5 in c:\\users\\dell\\appdata\\local\\programs\\python\\python312\\lib\\site-packages (from requests>=2.32.2->datasets) (3.7)\n",
      "Requirement already satisfied: urllib3<3,>=1.21.1 in c:\\users\\dell\\appdata\\local\\programs\\python\\python312\\lib\\site-packages (from requests>=2.32.2->datasets) (2.2.2)\n",
      "Requirement already satisfied: certifi>=2017.4.17 in c:\\users\\dell\\appdata\\local\\programs\\python\\python312\\lib\\site-packages (from requests>=2.32.2->datasets) (2024.7.4)\n",
      "Requirement already satisfied: colorama in c:\\users\\dell\\appdata\\local\\programs\\python\\python312\\lib\\site-packages (from tqdm>=4.66.3->datasets) (0.4.6)\n",
      "Requirement already satisfied: python-dateutil>=2.8.2 in c:\\users\\dell\\appdata\\local\\programs\\python\\python312\\lib\\site-packages (from pandas->datasets) (2.9.0.post0)\n",
      "Requirement already satisfied: pytz>=2020.1 in c:\\users\\dell\\appdata\\local\\programs\\python\\python312\\lib\\site-packages (from pandas->datasets) (2024.1)\n",
      "Requirement already satisfied: tzdata>=2022.7 in c:\\users\\dell\\appdata\\local\\programs\\python\\python312\\lib\\site-packages (from pandas->datasets) (2024.1)\n",
      "Requirement already satisfied: six>=1.5 in c:\\users\\dell\\appdata\\local\\programs\\python\\python312\\lib\\site-packages (from python-dateutil>=2.8.2->pandas->datasets) (1.16.0)\n"
     ]
    }
   ],
   "source": [
    "!pip install datasets\n",
    "from datasets import load_dataset "
   ]
  },
  {
   "cell_type": "code",
   "execution_count": 2,
   "id": "e70520d5-a92e-477b-b65f-506c01d3ec5c",
   "metadata": {},
   "outputs": [
    {
     "data": {
      "text/plain": [
       "Dataset({\n",
       "    features: ['pubid', 'question', 'context', 'long_answer', 'final_decision'],\n",
       "    num_rows: 1000\n",
       "})"
      ]
     },
     "execution_count": 2,
     "metadata": {},
     "output_type": "execute_result"
    }
   ],
   "source": [
    "pubmed = load_dataset(\n",
    "   'pubmed_qa',\n",
    "   'pqa_labeled',\n",
    "   split='train'\n",
    ")\n",
    "pubmed"
   ]
  },
  {
   "cell_type": "code",
   "execution_count": 3,
   "id": "dba4a0b8-4cd0-40d0-a4c3-fd8713e8b1c3",
   "metadata": {},
   "outputs": [
    {
     "name": "stdout",
     "output_type": "stream",
     "text": [
      "Programmed cell death (PCD) is the regulated death of cells within an organism. The lace plant (Aponogeton madagascariensis) produces perforations in its leaves through PCD. The leaves of the plant consist of a latticework of longitudinal and transverse veins enclosing areoles. PCD occurs in the cel...\n",
      "Assessment of visual acuity depends on the optotypes used for measurement. The ability to recognize different optotypes differs even if their critical details appear under the same visual angle. Since optotypes are evaluated on individuals with good visual acuity and without eye disorders, differenc...\n",
      "Apparent life-threatening events in infants are a difficult and frequent problem in pediatric practice. The prognosis is uncertain because of risk of sudden infant death syndrome.\n",
      "Eight infants aged 2 to 15 months were admitted during a period of 6 years; they suffered from similar maladies in the b...\n"
     ]
    }
   ],
   "source": [
    "contexts = []\n",
    "for record in pubmed['context']:\n",
    "    contexts.append('\\n'.join(record['contexts']))\n",
    "for context in contexts[:3]:\n",
    "    print(f\"{context[:300]}...\")"
   ]
  },
  {
   "cell_type": "code",
   "execution_count": 4,
   "id": "5b9f12e9-313a-4558-82fe-159c774280ca",
   "metadata": {},
   "outputs": [
    {
     "name": "stdout",
     "output_type": "stream",
     "text": [
      "Requirement already satisfied: transformers in c:\\users\\dell\\appdata\\local\\programs\\python\\python312\\lib\\site-packages (4.43.3)\n",
      "Requirement already satisfied: filelock in c:\\users\\dell\\appdata\\local\\programs\\python\\python312\\lib\\site-packages (from transformers) (3.15.4)\n",
      "Requirement already satisfied: huggingface-hub<1.0,>=0.23.2 in c:\\users\\dell\\appdata\\local\\programs\\python\\python312\\lib\\site-packages (from transformers) (0.24.3)\n",
      "Requirement already satisfied: numpy>=1.17 in c:\\users\\dell\\appdata\\local\\programs\\python\\python312\\lib\\site-packages (from transformers) (1.26.4)\n",
      "Requirement already satisfied: packaging>=20.0 in c:\\users\\dell\\appdata\\local\\programs\\python\\python312\\lib\\site-packages (from transformers) (24.1)\n",
      "Requirement already satisfied: pyyaml>=5.1 in c:\\users\\dell\\appdata\\local\\programs\\python\\python312\\lib\\site-packages (from transformers) (6.0.1)\n",
      "Requirement already satisfied: regex!=2019.12.17 in c:\\users\\dell\\appdata\\local\\programs\\python\\python312\\lib\\site-packages (from transformers) (2024.7.24)\n",
      "Requirement already satisfied: requests in c:\\users\\dell\\appdata\\local\\programs\\python\\python312\\lib\\site-packages (from transformers) (2.32.3)\n",
      "Requirement already satisfied: safetensors>=0.4.1 in c:\\users\\dell\\appdata\\local\\programs\\python\\python312\\lib\\site-packages (from transformers) (0.4.3)\n",
      "Requirement already satisfied: tokenizers<0.20,>=0.19 in c:\\users\\dell\\appdata\\local\\programs\\python\\python312\\lib\\site-packages (from transformers) (0.19.1)\n",
      "Requirement already satisfied: tqdm>=4.27 in c:\\users\\dell\\appdata\\local\\programs\\python\\python312\\lib\\site-packages (from transformers) (4.66.4)\n",
      "Requirement already satisfied: fsspec>=2023.5.0 in c:\\users\\dell\\appdata\\local\\programs\\python\\python312\\lib\\site-packages (from huggingface-hub<1.0,>=0.23.2->transformers) (2024.5.0)\n",
      "Requirement already satisfied: typing-extensions>=3.7.4.3 in c:\\users\\dell\\appdata\\local\\programs\\python\\python312\\lib\\site-packages (from huggingface-hub<1.0,>=0.23.2->transformers) (4.12.2)\n",
      "Requirement already satisfied: colorama in c:\\users\\dell\\appdata\\local\\programs\\python\\python312\\lib\\site-packages (from tqdm>=4.27->transformers) (0.4.6)\n",
      "Requirement already satisfied: charset-normalizer<4,>=2 in c:\\users\\dell\\appdata\\local\\programs\\python\\python312\\lib\\site-packages (from requests->transformers) (3.3.2)\n",
      "Requirement already satisfied: idna<4,>=2.5 in c:\\users\\dell\\appdata\\local\\programs\\python\\python312\\lib\\site-packages (from requests->transformers) (3.7)\n",
      "Requirement already satisfied: urllib3<3,>=1.21.1 in c:\\users\\dell\\appdata\\local\\programs\\python\\python312\\lib\\site-packages (from requests->transformers) (2.2.2)\n",
      "Requirement already satisfied: certifi>=2017.4.17 in c:\\users\\dell\\appdata\\local\\programs\\python\\python312\\lib\\site-packages (from requests->transformers) (2024.7.4)\n"
     ]
    }
   ],
   "source": [
    "# Sparse Vector\n",
    "!pip install transformers\n",
    "from transformers import BertTokenizerFast\n",
    "tokenizer = BertTokenizerFast.from_pretrained(\n",
    "   'bert-base-uncased'\n",
    ")"
   ]
  },
  {
   "cell_type": "code",
   "execution_count": null,
   "id": "6285de9f-7680-4144-9bcf-b551ed397a5b",
   "metadata": {},
   "outputs": [],
   "source": [
    "from collections import Counter\n",
    "\n",
    "def build_dict(input_batch):\n",
    "    sparse_emb = []\n",
    "    for token_ids in input_batch:\n",
    "        indices = []\n",
    "        values = []\n",
    "        d = dict(Counter(token_ids))\n",
    "        for indice in d:\n",
    "            indices.append(indice)\n",
    "            values.append(d[indice])\n",
    "        sparse_emb.append({'indices': indices, 'values': values})\n",
    "    return sparse_emb\n",
    "\n",
    "def generate_sparse_vectors(context_batch):\n",
    "    inputs = tokenizer(\n",
    "           context_batch, padding=True,\n",
    "           truncation=True,\n",
    "           max_length=512\n",
    "    )['input_ids']\n",
    "    sparse_embeds = build_dict(inputs)\n",
    "    return sparse_embeds\n",
    "\n",
    "contexts = []\n",
    "for record in pubmed['context']:\n",
    "    contexts.append('\\n'.join(record['contexts']))\n",
    "\n",
    "sparse_vectors = generate_sparse_vectors(contexts)\n"
   ]
  },
  {
   "cell_type": "code",
   "execution_count": null,
   "id": "38dc2054-4e03-402b-b5cc-3133138ecd4b",
   "metadata": {},
   "outputs": [],
   "source": [
    "!pip install rank_bm25\n",
    "from rank_bm25 import BM25Okapi\n",
    "from collections import Counter\n",
    "import numpy as np\n",
    "\n",
    "def build_bm25(input_batch):\n",
    "    # Initialize BM25\n",
    "    bm25 = BM25Okapi(input_batch)\n",
    "    \n",
    "    # Create sparse embeddings using BM25 scores\n",
    "    sparse_emb = []\n",
    "    for token_ids in input_batch:\n",
    "        indices = []\n",
    "        values = []\n",
    "        # Get BM25 scores for the current document\n",
    "        scores = bm25.get_scores(token_ids)\n",
    "        for idx, score in enumerate(scores):\n",
    "            if score > 0:  # Only consider non-zero scores\n",
    "                indices.append(idx)\n",
    "                values.append(score)\n",
    "        sparse_emb.append({'indices': indices, 'values': values})\n",
    "    return sparse_emb\n",
    "\n",
    "def generate_sparse_vectors_bm25(context_batch):\n",
    "    # Tokenize input text\n",
    "    inputs = tokenizer(\n",
    "        context_batch, padding=True,\n",
    "        truncation=True, max_length=512\n",
    "    )['input_ids']\n",
    "    \n",
    "    # Convert inputs to string format as BM25 requires text input\n",
    "    inputs_str = [[str(token) for token in doc] for doc in inputs]\n",
    "    \n",
    "    # Create sparse dictionaries using BM25\n",
    "    sparse_embeds = build_bm25(inputs_str)\n",
    "    return sparse_embeds\n",
    "\n",
    "# Example usage\n",
    "contexts = []\n",
    "for record in pubmed['context']:\n",
    "    contexts.append('\\n'.join(record['contexts']))\n",
    "\n",
    "sparse_vectors_bm25 = generate_sparse_vectors_bm25(contexts)\n"
   ]
  },
  {
   "cell_type": "code",
   "execution_count": null,
   "id": "92d93e55-14f6-402b-b5b5-5ab6b516adf6",
   "metadata": {},
   "outputs": [],
   "source": [
    "print(f\"First sparse embedding: {sparse_vectors_bm25[0]}\")"
   ]
  },
  {
   "cell_type": "code",
   "execution_count": null,
   "id": "88ddd28d-a949-4687-8760-9813f76dec69",
   "metadata": {},
   "outputs": [],
   "source": [
    "# Install the required libraries\n",
    "!pip install sentence-transformers\n",
    "\n",
    "from sentence_transformers import SentenceTransformer\n",
    "\n",
    "model = SentenceTransformer('multi-qa-MiniLM-L6-cos-v1')\n",
    "\n",
    "emb = model.encode(contexts[0])\n",
    "\n",
    "print(emb.shape)\n"
   ]
  },
  {
   "cell_type": "code",
   "execution_count": null,
   "id": "1690ae06-57a5-4a37-973f-621105e9d29d",
   "metadata": {},
   "outputs": [],
   "source": [
    "# Install the Pinecone client\n",
    "!pip install pinecone-client\n",
    "\n",
    "# Import necessary modules\n",
    "import os\n",
    "from pinecone import Pinecone, ServerlessSpec\n",
    "\n",
    "# Initialize the Pinecone instance\n",
    "pc = Pinecone(\n",
    "    api_key=\"cc72d653-271c-42ed-bc71-4209c9409e6b\" \n",
    ")\n",
    "\n",
    "# Define the index name\n",
    "index_name = \"hybrid-search\"\n",
    "\n",
    "# Check if the index already exists\n",
    "if index_name not in pc.list_indexes().names():\n",
    "    # Create the index\n",
    "    pc.create_index(\n",
    "        name=index_name,\n",
    "        dimension=384,  # Dimensionality of dense model\n",
    "        metric='dotproduct',\n",
    "        spec=ServerlessSpec(\n",
    "            cloud='aws',\n",
    "            region='us-east-1'\n",
    "        )\n",
    "    )\n"
   ]
  },
  {
   "cell_type": "code",
   "execution_count": null,
   "id": "9a300a5b-966c-47ab-ae74-b603ddf4ff86",
   "metadata": {
    "scrolled": true
   },
   "outputs": [],
   "source": [
    "from tqdm.auto import tqdm\n",
    "index = pinecone.Index(\n",
    "    name=\"hybrid-search\",\n",
    "    host=\"https://hybrid-search-okle6cz.svc.aped-4627-b74a.pinecone.io\",\n",
    "    api_key=\"cc72d653-271c-42ed-bc71-4209c9409e6b\"\n",
    ")\n",
    "batch_size = 32\n",
    "for i in tqdm(range(0, len(contexts), batch_size)):\n",
    "    # find end of batch\n",
    "    end_batch = min(i + batch_size, len(contexts))\n",
    "    # extract batch\n",
    "    context_batch = contexts[i:end_batch]\n",
    "    # create unique IDs\n",
    "    unique_ids = [str(id) for id in range(i, end_batch)]\n",
    "    # add context passages as metadata\n",
    "    meta = [{'context': context} for context in context_batch]\n",
    "    # create dense vectors\n",
    "    dense_embeds = model.encode(context_batch).tolist()\n",
    "    # create sparse vectors\n",
    "    sparse_embeds = generate_sparse_vectors(context_batch)\n",
    "\n",
    "    vector = []\n",
    "    for _id, sparse, dense, metadata in zip(unique_ids, sparse_embeds, dense_embeds, meta):\n",
    "        sparse_values = [float(value) for value in sparse['values']]\n",
    "        vector.append(\n",
    "            {\n",
    "                'id': _id,\n",
    "                'values': dense,\n",
    "                'sparse_values': {\n",
    "                    'indices': sparse['indices'],\n",
    "                    'values': sparse_values\n",
    "                },\n",
    "                'metadata': metadata\n",
    "            }\n",
    "        )\n",
    "    index.upsert(vector)\n",
    "\n",
    "index.describe_index_stats()\n"
   ]
  },
  {
   "cell_type": "code",
   "execution_count": null,
   "id": "9223fe56-9d87-4116-88d8-44dac99c8a51",
   "metadata": {},
   "outputs": [],
   "source": [
    "def hybrid_scale(dense, sparse, alpha: float):\n",
    "    if alpha < 0 or alpha > 1:\n",
    "        raise ValueError(\"Alpha must between 0 and 1\")\n",
    "\n",
    "    hsparse = {\n",
    "        'indices': sparse['indices'],\n",
    "        'values': [x*(1-alpha) for x in sparse['values']]\n",
    "    }\n",
    "    hdense = [x*alpha for x in dense]\n",
    "    return hsparse, hdense\n",
    "\n",
    "def hybrid_query(question, top_k, alpha):\n",
    "    sparse_vec = generate_sparse_vectors([question])[0]\n",
    "    #print(\"Sparse Vector:\", sparse_vec)\n",
    "    \n",
    "    dense_vec = model.encode([question]).tolist()\n",
    "    #print(\"Dense Vector:\", dense_vec)\n",
    "    \n",
    "\n",
    "    sparse_vec, dense_vec = hybrid_scale(dense_vec, sparse_vec, alpha)\n",
    "    # print(\"Scaled Dense Vector:\", dense_vec)\n",
    "    # print(\"Scaled Sparse Vector:\", sparse_vec)\n",
    "    \n",
    "    result = index.query(\n",
    "        vector = dense_vec,\n",
    "        sparse_values = sparse_vec,\n",
    "        top_k = top_k,\n",
    "        include_metadata = True\n",
    "    )\n",
    "    return result"
   ]
  },
  {
   "cell_type": "code",
   "execution_count": null,
   "id": "4d9cd004-0799-4203-afbe-035988163e96",
   "metadata": {},
   "outputs": [],
   "source": [
    "question = \"Can clinicians use the PHQ-9 to assess depression in people with vision loss?\"\n",
    "hybrid_query(question, top_k=3, alpha=1)"
   ]
  },
  {
   "cell_type": "code",
   "execution_count": null,
   "id": "a2202fc7-6f70-4a9a-80db-29a35a82ee20",
   "metadata": {},
   "outputs": [],
   "source": []
  }
 ],
 "metadata": {
  "kernelspec": {
   "display_name": "Python 3 (ipykernel)",
   "language": "python",
   "name": "python3"
  },
  "language_info": {
   "codemirror_mode": {
    "name": "ipython",
    "version": 3
   },
   "file_extension": ".py",
   "mimetype": "text/x-python",
   "name": "python",
   "nbconvert_exporter": "python",
   "pygments_lexer": "ipython3",
   "version": "3.12.4"
  }
 },
 "nbformat": 4,
 "nbformat_minor": 5
}
