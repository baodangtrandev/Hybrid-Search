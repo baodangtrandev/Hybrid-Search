{
 "cells": [
  {
   "cell_type": "code",
   "execution_count": 2,
   "id": "acb715ff-3618-4d0a-b2d9-0289accec53d",
   "metadata": {},
   "outputs": [
    {
     "name": "stderr",
     "output_type": "stream",
     "text": [
      "  WARNING: Retrying (Retry(total=4, connect=None, read=None, redirect=None, status=None)) after connection broken by 'ConnectTimeoutError(<pip._vendor.urllib3.connection.HTTPSConnection object at 0x0000021F4D261E50>, 'Connection to files.pythonhosted.org timed out. (connect timeout=15)')': /packages/60/2d/963b266bb8f88492d5ab4232d74292af8beb5b6fdae97902df9e284d4c32/datasets-2.20.0-py3-none-any.whl.metadata\n",
      "  WARNING: Retrying (Retry(total=3, connect=None, read=None, redirect=None, status=None)) after connection broken by 'ConnectTimeoutError(<pip._vendor.urllib3.connection.HTTPSConnection object at 0x0000021F51C6D130>, 'Connection to files.pythonhosted.org timed out. (connect timeout=15)')': /packages/60/2d/963b266bb8f88492d5ab4232d74292af8beb5b6fdae97902df9e284d4c32/datasets-2.20.0-py3-none-any.whl.metadata\n",
      "\n",
      "[notice] A new release of pip is available: 24.0 -> 24.1.2\n",
      "[notice] To update, run: python.exe -m pip install --upgrade pip\n"
     ]
    },
    {
     "name": "stdout",
     "output_type": "stream",
     "text": [
      "Collecting datasets\n",
      "  Downloading datasets-2.20.0-py3-none-any.whl.metadata (19 kB)\n",
      "Collecting filelock (from datasets)\n",
      "  Downloading filelock-3.15.4-py3-none-any.whl.metadata (2.9 kB)\n",
      "Requirement already satisfied: numpy>=1.17 in c:\\users\\dell\\appdata\\local\\programs\\python\\python312\\lib\\site-packages (from datasets) (1.26.4)\n",
      "Requirement already satisfied: pyarrow>=15.0.0 in c:\\users\\dell\\appdata\\local\\programs\\python\\python312\\lib\\site-packages (from datasets) (17.0.0)\n",
      "Collecting pyarrow-hotfix (from datasets)\n",
      "  Downloading pyarrow_hotfix-0.6-py3-none-any.whl.metadata (3.6 kB)\n",
      "Collecting dill<0.3.9,>=0.3.0 (from datasets)\n",
      "  Downloading dill-0.3.8-py3-none-any.whl.metadata (10 kB)\n",
      "Requirement already satisfied: pandas in c:\\users\\dell\\appdata\\local\\programs\\python\\python312\\lib\\site-packages (from datasets) (2.2.2)\n",
      "Requirement already satisfied: requests>=2.32.2 in c:\\users\\dell\\appdata\\local\\programs\\python\\python312\\lib\\site-packages (from datasets) (2.32.3)\n",
      "Requirement already satisfied: tqdm>=4.66.3 in c:\\users\\dell\\appdata\\local\\programs\\python\\python312\\lib\\site-packages (from datasets) (4.66.4)\n",
      "Collecting xxhash (from datasets)\n",
      "  Downloading xxhash-3.4.1-cp312-cp312-win_amd64.whl.metadata (12 kB)\n",
      "Collecting multiprocess (from datasets)\n",
      "  Downloading multiprocess-0.70.16-py312-none-any.whl.metadata (7.2 kB)\n",
      "Collecting fsspec<=2024.5.0,>=2023.1.0 (from fsspec[http]<=2024.5.0,>=2023.1.0->datasets)\n",
      "  Downloading fsspec-2024.5.0-py3-none-any.whl.metadata (11 kB)\n",
      "Collecting aiohttp (from datasets)\n",
      "  Downloading aiohttp-3.9.5-cp312-cp312-win_amd64.whl.metadata (7.7 kB)\n",
      "Collecting huggingface-hub>=0.21.2 (from datasets)\n",
      "  Downloading huggingface_hub-0.24.3-py3-none-any.whl.metadata (13 kB)\n",
      "Requirement already satisfied: packaging in c:\\users\\dell\\appdata\\local\\programs\\python\\python312\\lib\\site-packages (from datasets) (24.1)\n",
      "Requirement already satisfied: pyyaml>=5.1 in c:\\users\\dell\\appdata\\local\\programs\\python\\python312\\lib\\site-packages (from datasets) (6.0.1)\n",
      "Collecting aiosignal>=1.1.2 (from aiohttp->datasets)\n",
      "  Downloading aiosignal-1.3.1-py3-none-any.whl.metadata (4.0 kB)\n",
      "Requirement already satisfied: attrs>=17.3.0 in c:\\users\\dell\\appdata\\local\\programs\\python\\python312\\lib\\site-packages (from aiohttp->datasets) (23.2.0)\n",
      "Collecting frozenlist>=1.1.1 (from aiohttp->datasets)\n",
      "  Downloading frozenlist-1.4.1-cp312-cp312-win_amd64.whl.metadata (12 kB)\n",
      "Collecting multidict<7.0,>=4.5 (from aiohttp->datasets)\n",
      "  Downloading multidict-6.0.5-cp312-cp312-win_amd64.whl.metadata (4.3 kB)\n",
      "Collecting yarl<2.0,>=1.0 (from aiohttp->datasets)\n",
      "  Downloading yarl-1.9.4-cp312-cp312-win_amd64.whl.metadata (32 kB)\n",
      "Requirement already satisfied: typing-extensions>=3.7.4.3 in c:\\users\\dell\\appdata\\local\\programs\\python\\python312\\lib\\site-packages (from huggingface-hub>=0.21.2->datasets) (4.12.2)\n",
      "Requirement already satisfied: charset-normalizer<4,>=2 in c:\\users\\dell\\appdata\\local\\programs\\python\\python312\\lib\\site-packages (from requests>=2.32.2->datasets) (3.3.2)\n",
      "Requirement already satisfied: idna<4,>=2.5 in c:\\users\\dell\\appdata\\local\\programs\\python\\python312\\lib\\site-packages (from requests>=2.32.2->datasets) (3.7)\n",
      "Requirement already satisfied: urllib3<3,>=1.21.1 in c:\\users\\dell\\appdata\\local\\programs\\python\\python312\\lib\\site-packages (from requests>=2.32.2->datasets) (2.2.2)\n",
      "Requirement already satisfied: certifi>=2017.4.17 in c:\\users\\dell\\appdata\\local\\programs\\python\\python312\\lib\\site-packages (from requests>=2.32.2->datasets) (2024.7.4)\n",
      "Requirement already satisfied: colorama in c:\\users\\dell\\appdata\\local\\programs\\python\\python312\\lib\\site-packages (from tqdm>=4.66.3->datasets) (0.4.6)\n",
      "Requirement already satisfied: python-dateutil>=2.8.2 in c:\\users\\dell\\appdata\\local\\programs\\python\\python312\\lib\\site-packages (from pandas->datasets) (2.9.0.post0)\n",
      "Requirement already satisfied: pytz>=2020.1 in c:\\users\\dell\\appdata\\local\\programs\\python\\python312\\lib\\site-packages (from pandas->datasets) (2024.1)\n",
      "Requirement already satisfied: tzdata>=2022.7 in c:\\users\\dell\\appdata\\local\\programs\\python\\python312\\lib\\site-packages (from pandas->datasets) (2024.1)\n",
      "Requirement already satisfied: six>=1.5 in c:\\users\\dell\\appdata\\local\\programs\\python\\python312\\lib\\site-packages (from python-dateutil>=2.8.2->pandas->datasets) (1.16.0)\n",
      "Downloading datasets-2.20.0-py3-none-any.whl (547 kB)\n",
      "   ---------------------------------------- 0.0/547.8 kB ? eta -:--:--\n",
      "   ---------------------------------------- 0.0/547.8 kB ? eta -:--:--\n",
      "   ---------------------------------------- 0.0/547.8 kB ? eta -:--:--\n",
      "   ---------------------------------------- 0.0/547.8 kB ? eta -:--:--\n",
      "   ---------------------------------------- 0.0/547.8 kB ? eta -:--:--\n",
      "   ---------------------------------------- 0.0/547.8 kB ? eta -:--:--\n",
      "   ---------------------------------------- 0.0/547.8 kB ? eta -:--:--\n",
      "    --------------------------------------- 10.2/547.8 kB ? eta -:--:--\n",
      "    --------------------------------------- 10.2/547.8 kB ? eta -:--:--\n",
      "    --------------------------------------- 10.2/547.8 kB ? eta -:--:--\n",
      "   -- ------------------------------------ 30.7/547.8 kB 163.8 kB/s eta 0:00:04\n",
      "   -- ------------------------------------ 30.7/547.8 kB 163.8 kB/s eta 0:00:04\n",
      "   -- ------------------------------------ 41.0/547.8 kB 122.9 kB/s eta 0:00:05\n",
      "   -- ------------------------------------ 41.0/547.8 kB 122.9 kB/s eta 0:00:05\n",
      "   ---- ---------------------------------- 61.4/547.8 kB 163.6 kB/s eta 0:00:03\n",
      "   ----- --------------------------------- 81.9/547.8 kB 191.1 kB/s eta 0:00:03\n",
      "   ------ -------------------------------- 92.2/547.8 kB 187.0 kB/s eta 0:00:03\n",
      "   ------ -------------------------------- 92.2/547.8 kB 187.0 kB/s eta 0:00:03\n",
      "   ------- ------------------------------ 112.6/547.8 kB 198.4 kB/s eta 0:00:03\n",
      "   -------- ----------------------------- 122.9/547.8 kB 200.1 kB/s eta 0:00:03\n",
      "   -------- ----------------------------- 122.9/547.8 kB 200.1 kB/s eta 0:00:03\n",
      "   --------- ---------------------------- 143.4/547.8 kB 213.0 kB/s eta 0:00:02\n",
      "   ----------- -------------------------- 163.8/547.8 kB 228.6 kB/s eta 0:00:02\n",
      "   ------------ ------------------------- 174.1/547.8 kB 227.9 kB/s eta 0:00:02\n",
      "   ------------- ------------------------ 194.6/547.8 kB 240.6 kB/s eta 0:00:02\n",
      "   -------------- ----------------------- 204.8/547.8 kB 239.3 kB/s eta 0:00:02\n",
      "   --------------- ---------------------- 225.3/547.8 kB 250.0 kB/s eta 0:00:02\n",
      "   ----------------- -------------------- 245.8/547.8 kB 264.3 kB/s eta 0:00:02\n",
      "   ------------------ ------------------- 266.2/547.8 kB 268.6 kB/s eta 0:00:02\n",
      "   ------------------- ------------------ 286.7/547.8 kB 276.5 kB/s eta 0:00:01\n",
      "   -------------------- ----------------- 297.0/547.8 kB 278.1 kB/s eta 0:00:01\n",
      "   ---------------------- --------------- 327.7/547.8 kB 290.2 kB/s eta 0:00:01\n",
      "   ------------------------ ------------- 348.2/547.8 kB 300.4 kB/s eta 0:00:01\n",
      "   -------------------------- ----------- 378.9/547.8 kB 306.4 kB/s eta 0:00:01\n",
      "   --------------------------- ---------- 399.4/547.8 kB 319.2 kB/s eta 0:00:01\n",
      "   ---------------------------- --------- 409.6/547.8 kB 319.5 kB/s eta 0:00:01\n",
      "   ------------------------------- ------ 450.6/547.8 kB 335.4 kB/s eta 0:00:01\n",
      "   --------------------------------- ---- 481.3/547.8 kB 346.4 kB/s eta 0:00:01\n",
      "   --------------------------------- ---- 481.3/547.8 kB 346.4 kB/s eta 0:00:01\n",
      "   ----------------------------------- -- 512.0/547.8 kB 348.9 kB/s eta 0:00:01\n",
      "   -------------------------------------  542.7/547.8 kB 358.6 kB/s eta 0:00:01\n",
      "   -------------------------------------- 547.8/547.8 kB 358.4 kB/s eta 0:00:00\n",
      "Downloading dill-0.3.8-py3-none-any.whl (116 kB)\n",
      "   ---------------------------------------- 0.0/116.3 kB ? eta -:--:--\n",
      "   ---------- ----------------------------- 30.7/116.3 kB 1.3 MB/s eta 0:00:01\n",
      "   -------------------- ------------------ 61.4/116.3 kB 812.7 kB/s eta 0:00:01\n",
      "   ------------------------------ -------- 92.2/116.3 kB 744.7 kB/s eta 0:00:01\n",
      "   -------------------------------------- 116.3/116.3 kB 675.2 kB/s eta 0:00:00\n",
      "Downloading fsspec-2024.5.0-py3-none-any.whl (316 kB)\n",
      "   ---------------------------------------- 0.0/316.1 kB ? eta -:--:--\n",
      "   --- ------------------------------------ 30.7/316.1 kB 1.3 MB/s eta 0:00:01\n",
      "   ------- ------------------------------- 61.4/316.1 kB 812.7 kB/s eta 0:00:01\n",
      "   ----------- --------------------------- 92.2/316.1 kB 871.5 kB/s eta 0:00:01\n",
      "   -------------- ----------------------- 122.9/316.1 kB 722.1 kB/s eta 0:00:01\n",
      "   -------------------- ----------------- 174.1/316.1 kB 748.1 kB/s eta 0:00:01\n",
      "   ------------------------ ------------- 204.8/316.1 kB 778.2 kB/s eta 0:00:01\n",
      "   -------------------------------- ----- 266.2/316.1 kB 862.0 kB/s eta 0:00:01\n",
      "   -------------------------------------- 316.1/316.1 kB 852.0 kB/s eta 0:00:00\n",
      "Downloading aiohttp-3.9.5-cp312-cp312-win_amd64.whl (369 kB)\n",
      "   ---------------------------------------- 0.0/369.0 kB ? eta -:--:--\n",
      "   ---- ----------------------------------- 41.0/369.0 kB 1.9 MB/s eta 0:00:01\n",
      "   --------- ------------------------------ 92.2/369.0 kB 1.3 MB/s eta 0:00:01\n",
      "   ---------------- ----------------------- 153.6/369.0 kB 1.1 MB/s eta 0:00:01\n",
      "   ------------------- -------------------- 184.3/369.0 kB 1.1 MB/s eta 0:00:01\n",
      "   --------------------------- ------------ 256.0/369.0 kB 1.2 MB/s eta 0:00:01\n",
      "   --------------------------- ------------ 256.0/369.0 kB 1.2 MB/s eta 0:00:01\n",
      "   ------------------------------------ --- 337.9/369.0 kB 1.2 MB/s eta 0:00:01\n",
      "   ---------------------------------------- 369.0/369.0 kB 1.0 MB/s eta 0:00:00\n",
      "Downloading huggingface_hub-0.24.3-py3-none-any.whl (417 kB)\n",
      "   ---------------------------------------- 0.0/417.3 kB ? eta -:--:--\n",
      "   ----- ---------------------------------- 61.4/417.3 kB 1.7 MB/s eta 0:00:01\n",
      "   ------------- -------------------------- 143.4/417.3 kB 1.4 MB/s eta 0:00:01\n",
      "   ------------- -------------------------- 143.4/417.3 kB 1.4 MB/s eta 0:00:01\n",
      "   ------------------- -------------------- 204.8/417.3 kB 1.1 MB/s eta 0:00:01\n",
      "   --------------------- ------------------ 225.3/417.3 kB 1.1 MB/s eta 0:00:01\n",
      "   --------------------------- ------------ 286.7/417.3 kB 1.0 MB/s eta 0:00:01\n",
      "   -------------------------------- ------- 337.9/417.3 kB 1.2 MB/s eta 0:00:01\n",
      "   ---------------------------------------- 417.3/417.3 kB 1.2 MB/s eta 0:00:00\n",
      "Downloading filelock-3.15.4-py3-none-any.whl (16 kB)\n",
      "Downloading multiprocess-0.70.16-py312-none-any.whl (146 kB)\n",
      "   ---------------------------------------- 0.0/146.7 kB ? eta -:--:--\n",
      "   ---------------------- ----------------- 81.9/146.7 kB 4.5 MB/s eta 0:00:01\n",
      "   ------------------------- -------------- 92.2/146.7 kB 1.3 MB/s eta 0:00:01\n",
      "   ---------------------------------------- 146.7/146.7 kB 1.3 MB/s eta 0:00:00\n",
      "Downloading pyarrow_hotfix-0.6-py3-none-any.whl (7.9 kB)\n",
      "Downloading xxhash-3.4.1-cp312-cp312-win_amd64.whl (29 kB)\n",
      "Downloading aiosignal-1.3.1-py3-none-any.whl (7.6 kB)\n",
      "Downloading frozenlist-1.4.1-cp312-cp312-win_amd64.whl (50 kB)\n",
      "   ---------------------------------------- 0.0/50.5 kB ? eta -:--:--\n",
      "   ---------------------------------------- 50.5/50.5 kB 1.3 MB/s eta 0:00:00\n",
      "Downloading multidict-6.0.5-cp312-cp312-win_amd64.whl (27 kB)\n",
      "Downloading yarl-1.9.4-cp312-cp312-win_amd64.whl (76 kB)\n",
      "   ---------------------------------------- 0.0/76.4 kB ? eta -:--:--\n",
      "   ---------------------------------------- 76.4/76.4 kB 2.1 MB/s eta 0:00:00\n",
      "Installing collected packages: xxhash, pyarrow-hotfix, multidict, fsspec, frozenlist, filelock, dill, yarl, multiprocess, huggingface-hub, aiosignal, aiohttp, datasets\n",
      "Successfully installed aiohttp-3.9.5 aiosignal-1.3.1 datasets-2.20.0 dill-0.3.8 filelock-3.15.4 frozenlist-1.4.1 fsspec-2024.5.0 huggingface-hub-0.24.3 multidict-6.0.5 multiprocess-0.70.16 pyarrow-hotfix-0.6 xxhash-3.4.1 yarl-1.9.4\n"
     ]
    }
   ],
   "source": [
    "!pip install datasets\n",
    "from datasets import load_dataset "
   ]
  },
  {
   "cell_type": "code",
   "execution_count": 3,
   "id": "e70520d5-a92e-477b-b65f-506c01d3ec5c",
   "metadata": {},
   "outputs": [
    {
     "data": {
      "application/vnd.jupyter.widget-view+json": {
       "model_id": "d195f2736f0d4349a96fab2fbcd8faf7",
       "version_major": 2,
       "version_minor": 0
      },
      "text/plain": [
       "Downloading readme:   0%|          | 0.00/5.19k [00:00<?, ?B/s]"
      ]
     },
     "metadata": {},
     "output_type": "display_data"
    },
    {
     "data": {
      "application/vnd.jupyter.widget-view+json": {
       "model_id": "1611bae7410f4f079a207c106bf30cb5",
       "version_major": 2,
       "version_minor": 0
      },
      "text/plain": [
       "Downloading data:   0%|          | 0.00/1.08M [00:00<?, ?B/s]"
      ]
     },
     "metadata": {},
     "output_type": "display_data"
    },
    {
     "data": {
      "application/vnd.jupyter.widget-view+json": {
       "model_id": "bb6a16ed00ff47338c704cd6a1ebb60f",
       "version_major": 2,
       "version_minor": 0
      },
      "text/plain": [
       "Generating train split:   0%|          | 0/1000 [00:00<?, ? examples/s]"
      ]
     },
     "metadata": {},
     "output_type": "display_data"
    },
    {
     "data": {
      "text/plain": [
       "Dataset({\n",
       "    features: ['pubid', 'question', 'context', 'long_answer', 'final_decision'],\n",
       "    num_rows: 1000\n",
       "})"
      ]
     },
     "execution_count": 3,
     "metadata": {},
     "output_type": "execute_result"
    }
   ],
   "source": [
    "pubmed = load_dataset(\n",
    "   'pubmed_qa',\n",
    "   'pqa_labeled',\n",
    "   split='train'\n",
    ")\n",
    "pubmed"
   ]
  },
  {
   "cell_type": "code",
   "execution_count": 5,
   "id": "dba4a0b8-4cd0-40d0-a4c3-fd8713e8b1c3",
   "metadata": {},
   "outputs": [
    {
     "name": "stdout",
     "output_type": "stream",
     "text": [
      "Programmed cell death (PCD) is the regulated death of cells within an organism. The lace plant (Aponogeton madagascariensis) produces perforations in its leaves through PCD. The leaves of the plant consist of a latticework of longitudinal and transverse veins enclosing areoles. PCD occurs in the cel...\n",
      "Assessment of visual acuity depends on the optotypes used for measurement. The ability to recognize different optotypes differs even if their critical details appear under the same visual angle. Since optotypes are evaluated on individuals with good visual acuity and without eye disorders, differenc...\n",
      "Apparent life-threatening events in infants are a difficult and frequent problem in pediatric practice. The prognosis is uncertain because of risk of sudden infant death syndrome.\n",
      "Eight infants aged 2 to 15 months were admitted during a period of 6 years; they suffered from similar maladies in the b...\n"
     ]
    }
   ],
   "source": [
    "contexts = []\n",
    "for record in pubmed['context']:\n",
    "    contexts.append('\\n'.join(record['contexts']))\n",
    "for context in contexts[:3]:\n",
    "    print(f\"{context[:300]}...\")"
   ]
  },
  {
   "cell_type": "code",
   "execution_count": 8,
   "id": "5b9f12e9-313a-4558-82fe-159c774280ca",
   "metadata": {},
   "outputs": [
    {
     "name": "stdout",
     "output_type": "stream",
     "text": [
      "Requirement already satisfied: transformers in c:\\users\\dell\\appdata\\local\\programs\\python\\python312\\lib\\site-packages (4.43.3)\n",
      "Requirement already satisfied: filelock in c:\\users\\dell\\appdata\\local\\programs\\python\\python312\\lib\\site-packages (from transformers) (3.15.4)\n",
      "Requirement already satisfied: huggingface-hub<1.0,>=0.23.2 in c:\\users\\dell\\appdata\\local\\programs\\python\\python312\\lib\\site-packages (from transformers) (0.24.3)\n",
      "Requirement already satisfied: numpy>=1.17 in c:\\users\\dell\\appdata\\local\\programs\\python\\python312\\lib\\site-packages (from transformers) (1.26.4)\n",
      "Requirement already satisfied: packaging>=20.0 in c:\\users\\dell\\appdata\\local\\programs\\python\\python312\\lib\\site-packages (from transformers) (24.1)\n",
      "Requirement already satisfied: pyyaml>=5.1 in c:\\users\\dell\\appdata\\local\\programs\\python\\python312\\lib\\site-packages (from transformers) (6.0.1)\n",
      "Requirement already satisfied: regex!=2019.12.17 in c:\\users\\dell\\appdata\\local\\programs\\python\\python312\\lib\\site-packages (from transformers) (2024.7.24)\n",
      "Requirement already satisfied: requests in c:\\users\\dell\\appdata\\local\\programs\\python\\python312\\lib\\site-packages (from transformers) (2.32.3)\n",
      "Requirement already satisfied: safetensors>=0.4.1 in c:\\users\\dell\\appdata\\local\\programs\\python\\python312\\lib\\site-packages (from transformers) (0.4.3)\n",
      "Requirement already satisfied: tokenizers<0.20,>=0.19 in c:\\users\\dell\\appdata\\local\\programs\\python\\python312\\lib\\site-packages (from transformers) (0.19.1)\n",
      "Requirement already satisfied: tqdm>=4.27 in c:\\users\\dell\\appdata\\local\\programs\\python\\python312\\lib\\site-packages (from transformers) (4.66.4)\n",
      "Requirement already satisfied: fsspec>=2023.5.0 in c:\\users\\dell\\appdata\\local\\programs\\python\\python312\\lib\\site-packages (from huggingface-hub<1.0,>=0.23.2->transformers) (2024.5.0)\n",
      "Requirement already satisfied: typing-extensions>=3.7.4.3 in c:\\users\\dell\\appdata\\local\\programs\\python\\python312\\lib\\site-packages (from huggingface-hub<1.0,>=0.23.2->transformers) (4.12.2)\n",
      "Requirement already satisfied: colorama in c:\\users\\dell\\appdata\\local\\programs\\python\\python312\\lib\\site-packages (from tqdm>=4.27->transformers) (0.4.6)\n",
      "Requirement already satisfied: charset-normalizer<4,>=2 in c:\\users\\dell\\appdata\\local\\programs\\python\\python312\\lib\\site-packages (from requests->transformers) (3.3.2)\n",
      "Requirement already satisfied: idna<4,>=2.5 in c:\\users\\dell\\appdata\\local\\programs\\python\\python312\\lib\\site-packages (from requests->transformers) (3.7)\n",
      "Requirement already satisfied: urllib3<3,>=1.21.1 in c:\\users\\dell\\appdata\\local\\programs\\python\\python312\\lib\\site-packages (from requests->transformers) (2.2.2)\n",
      "Requirement already satisfied: certifi>=2017.4.17 in c:\\users\\dell\\appdata\\local\\programs\\python\\python312\\lib\\site-packages (from requests->transformers) (2024.7.4)\n"
     ]
    },
    {
     "name": "stderr",
     "output_type": "stream",
     "text": [
      "\n",
      "[notice] A new release of pip is available: 24.0 -> 24.1.2\n",
      "[notice] To update, run: python.exe -m pip install --upgrade pip\n"
     ]
    },
    {
     "data": {
      "application/vnd.jupyter.widget-view+json": {
       "model_id": "e98f5f6eea5f4760b14993b5ffbe5361",
       "version_major": 2,
       "version_minor": 0
      },
      "text/plain": [
       "tokenizer_config.json:   0%|          | 0.00/48.0 [00:00<?, ?B/s]"
      ]
     },
     "metadata": {},
     "output_type": "display_data"
    },
    {
     "name": "stderr",
     "output_type": "stream",
     "text": [
      "C:\\Users\\DELL\\AppData\\Local\\Programs\\Python\\Python312\\Lib\\site-packages\\huggingface_hub\\file_download.py:159: UserWarning: `huggingface_hub` cache-system uses symlinks by default to efficiently store duplicated files but your machine does not support them in C:\\Users\\DELL\\.cache\\huggingface\\hub\\models--bert-base-uncased. Caching files will still work but in a degraded version that might require more space on your disk. This warning can be disabled by setting the `HF_HUB_DISABLE_SYMLINKS_WARNING` environment variable. For more details, see https://huggingface.co/docs/huggingface_hub/how-to-cache#limitations.\n",
      "To support symlinks on Windows, you either need to activate Developer Mode or to run Python as an administrator. In order to see activate developer mode, see this article: https://docs.microsoft.com/en-us/windows/apps/get-started/enable-your-device-for-development\n",
      "  warnings.warn(message)\n"
     ]
    },
    {
     "data": {
      "application/vnd.jupyter.widget-view+json": {
       "model_id": "f0b3a90a71f146958bea4a26a57ce13b",
       "version_major": 2,
       "version_minor": 0
      },
      "text/plain": [
       "vocab.txt:   0%|          | 0.00/232k [00:00<?, ?B/s]"
      ]
     },
     "metadata": {},
     "output_type": "display_data"
    },
    {
     "data": {
      "application/vnd.jupyter.widget-view+json": {
       "model_id": "43324ddef10449d3956bf1821ac6a3f1",
       "version_major": 2,
       "version_minor": 0
      },
      "text/plain": [
       "tokenizer.json:   0%|          | 0.00/466k [00:00<?, ?B/s]"
      ]
     },
     "metadata": {},
     "output_type": "display_data"
    },
    {
     "data": {
      "application/vnd.jupyter.widget-view+json": {
       "model_id": "779cd0aac26146d0a9c283778a3f93e5",
       "version_major": 2,
       "version_minor": 0
      },
      "text/plain": [
       "config.json:   0%|          | 0.00/570 [00:00<?, ?B/s]"
      ]
     },
     "metadata": {},
     "output_type": "display_data"
    }
   ],
   "source": [
    "# Sparse Vector\n",
    "!pip install transformers\n",
    "from transformers import BertTokenizerFast\n",
    "tokenizer = BertTokenizerFast.from_pretrained(\n",
    "   'bert-base-uncased'\n",
    ")"
   ]
  },
  {
   "cell_type": "code",
   "execution_count": 12,
   "id": "6285de9f-7680-4144-9bcf-b551ed397a5b",
   "metadata": {},
   "outputs": [],
   "source": [
    "def build_dict(input_batch):\n",
    "    sparse_emb = []\n",
    "    for token_ids in input_batch:\n",
    "        indices = []\n",
    "        values = []\n",
    "        d = dict(Counter(token_ids))\n",
    "        for indice in d:\n",
    "            indices.append(indice)\n",
    "            values.append(d[indice])\n",
    "        sparse_emb.append({'indices':indices, 'values': values})\n",
    "    return sparse_emb\n",
    "\n",
    "def generate_sparse_vectors(context_batch):\n",
    "    inputs = tokenizer(\n",
    "           context_batch, padding=True,\n",
    "           truncation=True,\n",
    "           max_length=512, special_tokens=False\n",
    "    )['input_ids']\n",
    "    sparse_embeds = build_dict(inputs)\n",
    "    return sparse_embeds"
   ]
  },
  {
   "cell_type": "code",
   "execution_count": null,
   "id": "05d2af24-16e8-4dd2-b751-f923145c1f5d",
   "metadata": {},
   "outputs": [],
   "source": []
  }
 ],
 "metadata": {
  "kernelspec": {
   "display_name": "Python 3 (ipykernel)",
   "language": "python",
   "name": "python3"
  },
  "language_info": {
   "codemirror_mode": {
    "name": "ipython",
    "version": 3
   },
   "file_extension": ".py",
   "mimetype": "text/x-python",
   "name": "python",
   "nbconvert_exporter": "python",
   "pygments_lexer": "ipython3",
   "version": "3.12.4"
  }
 },
 "nbformat": 4,
 "nbformat_minor": 5
}
